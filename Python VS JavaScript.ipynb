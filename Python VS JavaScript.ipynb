{
 "cells": [
  {
   "cell_type": "markdown",
   "source": [
    "https://www.freecodecamp.org/news/python-vs-javascript-what-are-the-key-differences-between-the-two-popular-programming-languages/"
   ],
   "metadata": {}
  },
  {
   "cell_type": "markdown",
   "source": [
    "# Code Blocks in Python and JavaScript\n",
    "\n",
    "Each programming language has its own style to define code blocks. Let's see their differences in Python and JavaScript:\n"
   ],
   "metadata": {}
  },
  {
   "cell_type": "markdown",
   "source": [
    "## How Python defines code blocks\n",
    "\n",
    "Python relies on indentation to define code blocks. When a series of continuous lines of code are indented at the same level, they are considered part of the same code block.\n",
    "\n",
    "We use this to define conditionals, functions, loops, and basically every compound statement in Python.\n",
    "\n",
    "These are some examples:\n"
   ],
   "metadata": {}
  },
  {
   "cell_type": "code",
   "execution_count": 8,
   "source": [
    "x = 3\n",
    "if x < 5:\n",
    "    print(\"x is less than 5\")\n"
   ],
   "outputs": [
    {
     "output_type": "stream",
     "name": "stdout",
     "text": [
      "x is less than 5\n"
     ]
    }
   ],
   "metadata": {}
  },
  {
   "cell_type": "code",
   "execution_count": 9,
   "source": [
    "def foo(x):\n",
    "    print(x)\n"
   ],
   "outputs": [],
   "metadata": {}
  },
  {
   "cell_type": "code",
   "execution_count": 10,
   "source": [
    "for i in range(1, 3):\n",
    "    print(i)\n"
   ],
   "outputs": [
    {
     "output_type": "stream",
     "name": "stdout",
     "text": [
      "1\n",
      "2\n"
     ]
    }
   ],
   "metadata": {}
  },
  {
   "cell_type": "markdown",
   "source": [
    "## How JavaScript defines code blocks\n",
    "\n",
    "In contrast, in JavaScript we use curly braces ({}) to group statements that belong to the same code block.\n",
    "\n",
    "These are some examples:\n"
   ],
   "metadata": {}
  },
  {
   "cell_type": "code",
   "execution_count": 17,
   "source": [
    "%% javascript\n",
    "\n",
    "if (x < 5) {\n",
    "    console.log(x);\n",
    "}\n"
   ],
   "outputs": [
    {
     "output_type": "display_data",
     "data": {
      "text/plain": [
       "<IPython.core.display.Javascript object>"
      ],
      "application/javascript": "\nif (x < 5) {\n    console.log(x);\n}\n"
     },
     "metadata": {}
    }
   ],
   "metadata": {}
  },
  {
   "cell_type": "markdown",
   "source": [
    "# Variable Definitions in Python and JavaScript\n",
    "\n",
    "The assignment statement is one of the most fundamental statements in any programming language. Let's see how we can define a variable in Python and JavaScript.\n"
   ],
   "metadata": {}
  },
  {
   "cell_type": "markdown",
   "source": [
    "## How to define a variable in Python\n",
    "\n",
    "To define a variable in Python, we write the name of the variable followed by an equal sign (`=`) and the value that will be assigned to the variable.\n",
    "\n",
    "Like this:\n"
   ],
   "metadata": {}
  },
  {
   "cell_type": "code",
   "execution_count": 18,
   "source": [
    "x = 5\n"
   ],
   "outputs": [],
   "metadata": {}
  },
  {
   "cell_type": "markdown",
   "source": [
    "## How to define a variable in JavaScript\n",
    "\n",
    "The syntax is very similar in JavaScript, but we just need to add the keyword `var` before the name of the variable and end the line with a semicolon (`;`).\n",
    "\n",
    "Like this:\n"
   ],
   "metadata": {}
  },
  {
   "cell_type": "code",
   "execution_count": 19,
   "source": [
    "%% javascript\n",
    "\n",
    "var x = 5;\n"
   ],
   "outputs": [
    {
     "output_type": "display_data",
     "data": {
      "text/plain": [
       "<IPython.core.display.Javascript object>"
      ],
      "application/javascript": "\nvar x = 5;\n"
     },
     "metadata": {}
    }
   ],
   "metadata": {}
  },
  {
   "cell_type": "markdown",
   "source": [
    "# Variable Naming Conventions in Python and JavaScript\n",
    "\n",
    "Python and JavaScript follow two different variable naming conventions.\n"
   ],
   "metadata": {}
  },
  {
   "cell_type": "markdown",
   "source": [
    "## How to name variables in Python\n",
    "\n",
    "In Python, we should use the snake_case naming style.\n",
    "\n",
    "According to the Python Style Guide:\n",
    "\n",
    "> Variable names follow the same convention as function names.\n",
    ">\n",
    "> Function names should be lowercase, with words separated by underscores as necessary to improve readability.\n",
    "\n",
    "Therefore, a typical variable name in Python would look like this:\n"
   ],
   "metadata": {}
  },
  {
   "cell_type": "code",
   "execution_count": 21,
   "source": [
    "first_name = \"John\"\n"
   ],
   "outputs": [],
   "metadata": {}
  },
  {
   "cell_type": "markdown",
   "source": [
    "## How to name variables in JavaScript\n",
    "\n",
    "In contrast, we should use the lowerCamelCase naming style in JavaScript. The name starts with a lowercase letter and then every new word starts with an uppercase letter.\n",
    "\n",
    "According to the JavaScript guidelines article by the MDN Web Docs:\n",
    "\n",
    "> For variable names use lowerCamelCasing, and use concise, human-readable, semantic names where appropriate.\n",
    "\n",
    "Therefore, a typical variable name in JavaScript should look like this:\n"
   ],
   "metadata": {}
  },
  {
   "cell_type": "code",
   "execution_count": 22,
   "source": [
    "%% javascript\n",
    "\n",
    "var firstName = \"John\";\n"
   ],
   "outputs": [
    {
     "output_type": "display_data",
     "data": {
      "text/plain": [
       "<IPython.core.display.Javascript object>"
      ],
      "application/javascript": "\nvar firstName = \"John\";\n"
     },
     "metadata": {}
    }
   ],
   "metadata": {}
  },
  {
   "cell_type": "markdown",
   "source": [
    "# Constants in Python and JavaScript\n",
    "\n",
    "Great. Now you know more about variables, so let's talk a little bit about constants. Constants are values that cannot be changed during the execution of the program.\n"
   ],
   "metadata": {}
  },
  {
   "cell_type": "markdown",
   "source": [
    "## How to define constants in Python\n",
    "\n",
    "In Python, we rely on naming conventions to define constants because there are no strict rules in the language to prevent changes to their values.\n",
    "\n",
    "According to the Python Style Guide:\n",
    "\n",
    "> Constants are usually defined on a module level and written in all capital letters with underscores separating words.\n",
    "\n",
    "This is the naming style that we should use to define a constant in Python:\n"
   ],
   "metadata": {}
  },
  {
   "cell_type": "code",
   "execution_count": 23,
   "source": [
    "TAX_RATE_PERCENTAGE = 32\n"
   ],
   "outputs": [],
   "metadata": {}
  },
  {
   "cell_type": "markdown",
   "source": [
    "## How to define constants in JavaScript\n",
    "\n",
    "In contrast, in JavaScript we can define constants that cannot be changed in the program, and the variable identifier cannot be reassigned.\n",
    "\n",
    "But this does not mean that the value itself cannot be changed.\n",
    "\n",
    "According to the article const in MDN Web Docs:\n",
    "\n",
    "> The const declaration creates a read-only reference to a value. It does not mean the value it holds is immutable—just that the variable identifier cannot be reassigned. For instance, in the case where the content is an object, this means the object's contents (e.g., its properties) can be altered.\n",
    "\n",
    "To define a constant in JavaScript, we add the keyword const before the name of the variable:\n"
   ],
   "metadata": {}
  },
  {
   "cell_type": "code",
   "execution_count": null,
   "source": [
    "%%javascript\n",
    "\n",
    "const TAX_RATE_PERCENTAGE = 32;\n"
   ],
   "outputs": [],
   "metadata": {}
  },
  {
   "cell_type": "markdown",
   "source": [
    "# Data Types and Values in Python and JavaScript\n",
    "\n",
    "Let's see the main differences between Python and JavaScript data types."
   ],
   "metadata": {}
  },
  {
   "cell_type": "markdown",
   "source": [
    "## Numeric Data Types\n",
    "\n",
    "**Python** has three numeric types to help us perform precise calculations for scientific purposes. These numeric types include: `int` (integers),  `float` (floating-point numbers), and `complex`. Each one of them has its own properties, characteristics, and applications.\n",
    "\n",
    "In contrast, **JavaScript** has only two numeric types: `Number` and `BigInt`. Integers and floating-point numbers are both considered to be of type `Number`."
   ],
   "metadata": {}
  },
  {
   "cell_type": "markdown",
   "source": [
    "## None vs. null\n",
    "\n",
    "In **Python**, there is a special value called `None` that we typically use to indicate that a variable doesn't have a value at a particular point in the program.\n",
    "\n",
    "The equivalent value in **JavaScript** is `null`, which \"represents the intentional absence of any object value\" ([source](https://developer.mozilla.org/en-US/docs/Web/JavaScript/Reference/Global_Objects/null))."
   ],
   "metadata": {}
  },
  {
   "cell_type": "code",
   "execution_count": 5,
   "source": [
    "print(None)\n"
   ],
   "outputs": [
    {
     "output_type": "stream",
     "name": "stdout",
     "text": [
      "None\n"
     ]
    }
   ],
   "metadata": {}
  },
  {
   "cell_type": "code",
   "execution_count": 8,
   "source": [
    "%%javascript\n",
    "\n",
    "console.log(null);\n"
   ],
   "outputs": [
    {
     "output_type": "display_data",
     "data": {
      "text/plain": [
       "<IPython.core.display.Javascript object>"
      ],
      "application/javascript": "\nconsole.log(null);\n"
     },
     "metadata": {}
    }
   ],
   "metadata": {}
  },
  {
   "cell_type": "markdown",
   "source": [
    "## The `undefined` Value\n",
    "\n",
    "In **JavaScript**, we have a special value that is assigned automatically when we declare a variable without assigning an initial value."
   ],
   "metadata": {}
  },
  {
   "cell_type": "code",
   "execution_count": 9,
   "source": [
    "%%javascript\n",
    "\n",
    "var a;\n",
    "console.log(a);\n"
   ],
   "outputs": [
    {
     "output_type": "display_data",
     "data": {
      "text/plain": [
       "<IPython.core.display.Javascript object>"
      ],
      "application/javascript": "\nvar a;\nconsole.log(a);\n"
     },
     "metadata": {}
    }
   ],
   "metadata": {}
  },
  {
   "cell_type": "markdown",
   "source": [
    "## Primitive Data Types in Python and JavaScript\n",
    "\n",
    "Primitive data types represent the most fundamental values that we can work with in a programming language. Let's compare the primitive data types of these two languages:\n",
    "\n",
    "- **Python** has four primitive data types: Integers (`int`), Floats (`float`), Booleans (`bool`), and strings (`str`).\n",
    "- **JavaScript** has six primitive data types: `undefined`, Boolean, String, Number, `BigInt`, and `Symbol`."
   ],
   "metadata": {}
  },
  {
   "cell_type": "markdown",
   "source": [
    "# How to Write Comments in Python and JavaScript\n",
    "\n",
    "Comments are very important to write clean and readable code. Let's see how you can use them in Python and JavaScript:\n"
   ],
   "metadata": {}
  },
  {
   "cell_type": "markdown",
   "source": [
    "## Single-Line Comments\n",
    "\n",
    "- In **Python**, we use a hashtag (`#`) to write a comment. All the characters on the same line after this symbol are considered part of the comment.\n",
    "- In **JavaScript**, we write two slashes (`//`) to start a single-line comment.\n"
   ],
   "metadata": {}
  },
  {
   "cell_type": "code",
   "execution_count": null,
   "source": [
    "# Comment\n",
    "# Comment 2"
   ],
   "outputs": [],
   "metadata": {}
  },
  {
   "cell_type": "code",
   "execution_count": null,
   "source": [
    "%%javascript\n",
    "\n",
    "// Comment\n",
    "\n",
    "/*\n",
    " Multi-line comment\n",
    " */"
   ],
   "outputs": [],
   "metadata": {}
  },
  {
   "cell_type": "markdown",
   "source": [
    "# Built-in Data Structures in Python and JavaScript\n",
    "\n",
    "The built-in data structures in Python and JavaScript also have key differences."
   ],
   "metadata": {}
  },
  {
   "cell_type": "markdown",
   "source": [
    "## Tuples\n",
    "\n",
    "- In **Python**, we have a built-in data structure called **tuple** that is very similar to a list but immutable. Therefore, it cannot be changed during the execution of the program, so it is used to store data that should not be modified.\n",
    "- In **JavaScript**, there isn't a built-in data structure with these characteristics. Although you can implement a similar data structure with certain features of the language.\n"
   ],
   "metadata": {}
  },
  {
   "cell_type": "markdown",
   "source": [
    "## Lists vs. Arrays\n",
    "\n",
    "- In **Python**, **lists** are used to store a sequence of values in the same data structure. They can be modified, indexed, sliced, and used in the program.\n",
    "- In **JavaScript**, an equivalent version of this data structure is called **array**."
   ],
   "metadata": {}
  },
  {
   "cell_type": "code",
   "execution_count": 11,
   "source": [
    "numbers = [3, 4, 5]\n",
    "print(numbers)\n"
   ],
   "outputs": [
    {
     "output_type": "stream",
     "name": "stdout",
     "text": [
      "[3, 4, 5]\n"
     ]
    }
   ],
   "metadata": {}
  },
  {
   "cell_type": "code",
   "execution_count": 15,
   "source": [
    "%%javascript\n",
    "\n",
    "var numbers = [3, 4, 5];\n",
    "console.log(numbers);\n"
   ],
   "outputs": [
    {
     "output_type": "display_data",
     "data": {
      "text/plain": [
       "<IPython.core.display.Javascript object>"
      ],
      "application/javascript": "\nvar numbers = [3, 4, 5];\nconsole.log(numbers);\n"
     },
     "metadata": {}
    }
   ],
   "metadata": {}
  },
  {
   "cell_type": "markdown",
   "source": [
    "## Hash Tables\n",
    "\n",
    "- In **Python**, there is a built-in data structure called **dictionary** that helps us map certain values to other values and create key-value pairs. This works as a hash table.\n",
    "- **JavaScript** doesn't have this type of built-in data structure, but there are certain ways to reproduce its functionality with certain elements of the language."
   ],
   "metadata": {}
  },
  {
   "cell_type": "code",
   "execution_count": 18,
   "source": [
    "directory = dict({'a': 1})\n",
    "print(directory)"
   ],
   "outputs": [
    {
     "output_type": "stream",
     "name": "stdout",
     "text": [
      "{'a': 1}\n"
     ]
    }
   ],
   "metadata": {}
  },
  {
   "cell_type": "markdown",
   "source": [
    "# Operators in Python and JavaScript\n",
    "\n",
    "Operators are essential to write expressions in any programming language. Let's see their key differences in Python and JavaScript."
   ],
   "metadata": {}
  },
  {
   "cell_type": "markdown",
   "source": [
    "## Floor Division\n",
    "\n",
    "While most of the arithmetic operators work exactly the same in Python and JavaScript, the floor division operator is a little bit different.\n",
    "\n",
    "- In **Python**, the floor division operation (also called \"integer division\") is represented with a double slash (`//`).\n",
    "- In **JavaScript**, we don't have a particular floor division operator. Instead, we call the `Math.floor()` method to round down the result to the nearest integer."
   ],
   "metadata": {}
  },
  {
   "cell_type": "code",
   "execution_count": 21,
   "source": [
    "print(5 // 3)\n"
   ],
   "outputs": [
    {
     "output_type": "stream",
     "name": "stdout",
     "text": [
      "1\n"
     ]
    }
   ],
   "metadata": {}
  },
  {
   "cell_type": "code",
   "execution_count": 22,
   "source": [
    "%%javascript\n",
    "\n",
    "console.log(Math.floor(5 / 3));\n"
   ],
   "outputs": [
    {
     "output_type": "display_data",
     "data": {
      "text/plain": [
       "<IPython.core.display.Javascript object>"
      ],
      "application/javascript": "\nconsole.log(Math.floor(5 / 3));\n"
     },
     "metadata": {}
    }
   ],
   "metadata": {}
  },
  {
   "cell_type": "markdown",
   "source": [
    "## Comparing Values and Types\n",
    "\n",
    "In **Python**, we use the `==` operator to compare if two values and their data types are equal."
   ],
   "metadata": {}
  },
  {
   "cell_type": "code",
   "execution_count": 24,
   "source": [
    "print(0 == 0, 0 == '0')\n"
   ],
   "outputs": [
    {
     "output_type": "stream",
     "name": "stdout",
     "text": [
      "True False\n"
     ]
    }
   ],
   "metadata": {}
  },
  {
   "cell_type": "markdown",
   "source": [
    "In **JavaScript**, we also have this operator but it works a little bit differently because it converts the two objects to the same type before actually performing the comparison."
   ],
   "metadata": {}
  },
  {
   "cell_type": "code",
   "execution_count": null,
   "source": [
    "%%javascript\n",
    "\n",
    "console.log(0 == 0, 0 == '0', 0 === 0, 0 === '0');\n"
   ],
   "outputs": [],
   "metadata": {}
  },
  {
   "cell_type": "markdown",
   "source": [
    "## Logical Operators\n",
    "\n",
    "- In **Python**, the three logical operators are: `and`, `or`, and `not`.\n",
    "- In **JavaScript**, these operators are: `&&`, `||`, and `!` (respectively)."
   ],
   "metadata": {}
  },
  {
   "cell_type": "markdown",
   "source": [
    "## Type Operators\n",
    "\n",
    "- In **Python**, to check the type of an object we use the `type()` function.\n",
    "- In **JavaScript**, we use the `typeof` operator."
   ],
   "metadata": {}
  },
  {
   "cell_type": "code",
   "execution_count": 25,
   "source": [
    "print(type(1))\n"
   ],
   "outputs": [
    {
     "output_type": "stream",
     "name": "stdout",
     "text": [
      "<class 'int'>\n"
     ]
    }
   ],
   "metadata": {}
  },
  {
   "cell_type": "code",
   "execution_count": 26,
   "source": [
    "%%javascript\n",
    "\n",
    "console.log(typeof 1);"
   ],
   "outputs": [
    {
     "output_type": "display_data",
     "data": {
      "text/plain": [
       "<IPython.core.display.Javascript object>"
      ],
      "application/javascript": "\nconsole.log(typeof 1);\n"
     },
     "metadata": {}
    }
   ],
   "metadata": {}
  },
  {
   "cell_type": "markdown",
   "source": [
    "# Conditional Statements in Python and JavaScript\n",
    "\n",
    "With conditionals, we can choose what happens in the program based on whether a specific condition is `True` or `False`. Let's see their differences in Python and JavaScript."
   ],
   "metadata": {}
  },
  {
   "cell_type": "markdown",
   "source": [
    "## `if` Statement\n",
    "\n",
    "- In **Python**, we rely on indentation to indicate which lines of code belong to the conditional.\n",
    "- In **JavaScript**, we have to surround the condition with parentheses and the code with curly braces. The code should also be indented."
   ],
   "metadata": {}
  },
  {
   "cell_type": "code",
   "execution_count": 29,
   "source": [
    "if True:\n",
    "    print(True)\n",
    "elif False:\n",
    "    print(False)\n",
    "else:\n",
    "    print('???')\n"
   ],
   "outputs": [
    {
     "output_type": "stream",
     "name": "stdout",
     "text": [
      "True\n"
     ]
    }
   ],
   "metadata": {}
  },
  {
   "cell_type": "code",
   "execution_count": null,
   "source": [
    "%%javascript\n",
    "\n",
    "if (true) {\n",
    "    console.log(true);\n",
    "} else if (false) {\n",
    "    console.log(false);\n",
    "} else {\n",
    "    console.log('???');\n",
    "}"
   ],
   "outputs": [],
   "metadata": {}
  },
  {
   "cell_type": "markdown",
   "source": [
    "## Switch in JavaScript\n",
    "\n",
    "- In **JavaScript**, we have an additional control structure that we can use to choose what happens based on the value of an expression. This statement is called `switch`.\n",
    "- **Python** doesn't have this type of built-in control structure."
   ],
   "metadata": {}
  },
  {
   "cell_type": "code",
   "execution_count": null,
   "source": [
    "%%javascript\n",
    "\n",
    "var value = 1;\n",
    "switch(value) {\n",
    "    case 1:\n",
    "        console.log(\"one\");\n",
    "        break;\n",
    "    case 2:\n",
    "        console.log(\"two\");\n",
    "        break;\n",
    "    default:\n",
    "        console.log(\"default\");\n",
    "}"
   ],
   "outputs": [],
   "metadata": {}
  },
  {
   "cell_type": "markdown",
   "source": [
    "# For Loops and While Loops in Python and JavaScript\n",
    "\n",
    "Now let's see how we can define different types of loops in Python and JavaScript and their main differences."
   ],
   "metadata": {}
  },
  {
   "cell_type": "markdown",
   "source": [
    "## For Loops\n",
    "\n",
    "The syntax to define a for loop in Python is relatively simpler than the syntax in JavaScript.\n",
    "\n",
    "- In **Python**, we write the keyword `for` followed by the name of the loop variable, the keyword `in`, and a call to the `range()` function specifying the necessary parameter(s). Then, we write a colon (`:`) followed by the body of the loop indented.\n",
    "- In **JavaScript**, we have to specify several values explicitly. We start with the `for` keyword followed by parentheses. Within those parentheses, we define the loop variable with its initial value, the condition that must be `False` to stop the loop, and how the variable will be updated on every iteration. Then, we write curly braces to create a code block and within the braces we write the body of the loop indented."
   ],
   "metadata": {}
  },
  {
   "cell_type": "code",
   "execution_count": 31,
   "source": [
    "for i in range(2):\n",
    "    print(i)\n"
   ],
   "outputs": [
    {
     "output_type": "stream",
     "name": "stdout",
     "text": [
      "0\n",
      "1\n"
     ]
    }
   ],
   "metadata": {}
  },
  {
   "cell_type": "code",
   "execution_count": null,
   "source": [
    "%%javascript\n",
    "\n",
    "for (var i = 0; i < 2; i++) {\n",
    "    console.log(i);\n",
    "}"
   ],
   "outputs": [],
   "metadata": {}
  },
  {
   "cell_type": "markdown",
   "source": [
    "## Iterating Over Iterables\n",
    "\n",
    "We can use a for loop in Python and JavaScript to iterate over the elements of an iterable.\n",
    "\n",
    "- In **Python**, we write the keyword `for` followed by the loop variable, the `in` keyword, and the iterable. Then, we write a colon (`:`) and the body of the loop (indented).\n",
    "- In **JavaScript**, we can use a `for .. of` loop. We write the `for` keyword followed by parentheses and within those parentheses, we write the keyword `var` followed by the loop variable, the keyword `of`, and the iterable. We surround the body of the loop with curly braces and then we indent it."
   ],
   "metadata": {}
  },
  {
   "cell_type": "code",
   "execution_count": 32,
   "source": [
    "for item in [1, 2]:\n",
    "    print(item)\n"
   ],
   "outputs": [
    {
     "output_type": "stream",
     "name": "stdout",
     "text": [
      "1\n",
      "2\n"
     ]
    }
   ],
   "metadata": {}
  },
  {
   "cell_type": "code",
   "execution_count": null,
   "source": [
    "%%javascript\n",
    "\n",
    "for (var item of [1, 2]) {\n",
    "    console.log(item);\n",
    "}"
   ],
   "outputs": [],
   "metadata": {}
  },
  {
   "cell_type": "markdown",
   "source": [
    "## While Loops\n",
    "\n",
    "While loops are very similar in Python and JavaScript.\n",
    "\n",
    "- In **Python**, we write the keyword `while` followed by the condition, a colon (`:`), and in a new line, the body of the loop (indented).\n",
    "- In **JavaScript**, the syntax is very similar. The differences are that we have to surround the condition with parentheses and the body of the loop with curly braces."
   ],
   "metadata": {}
  },
  {
   "cell_type": "code",
   "execution_count": 33,
   "source": [
    "while False:\n",
    "    print(\"Hello\")\n"
   ],
   "outputs": [],
   "metadata": {}
  },
  {
   "cell_type": "code",
   "execution_count": 34,
   "source": [
    "%%javascript\n",
    "\n",
    "while (false) {}"
   ],
   "outputs": [
    {
     "output_type": "display_data",
     "data": {
      "text/plain": [
       "<IPython.core.display.Javascript object>"
      ],
      "application/javascript": "\nwhile (false) {}\n"
     },
     "metadata": {}
    }
   ],
   "metadata": {}
  },
  {
   "cell_type": "markdown",
   "source": [
    "# Functions in Python and JavaScript\n",
    "\n",
    "Functions are incredibly important to write concise, maintainable, and readable programs. The syntax is very similar in Python and JavaScript, but let's analyze their key differences:\n",
    "\n",
    "- In **Python**, we write the keyword `def` followed by the name of the function, and within parentheses the parameters list. After this list, we write a colon (`:`) and the body of the function (indented).\n",
    "- In **JavaScript**, the only differences are that we define a function using the `function` keyword and surround the body of the function with curly braces."
   ],
   "metadata": {}
  },
  {
   "cell_type": "code",
   "execution_count": 38,
   "source": [
    "def function_name(p1, p2):\n",
    "    return p1 + \" \" + p2\n",
    "\n",
    "print(function_name(\"Hello\", \"World\"))\n"
   ],
   "outputs": [
    {
     "output_type": "stream",
     "name": "stdout",
     "text": [
      "Hello World\n"
     ]
    }
   ],
   "metadata": {}
  },
  {
   "cell_type": "code",
   "execution_count": 39,
   "source": [
    "%%javascript\n",
    "\n",
    "function functionName(p1, p2) {\n",
    "    return p1 + \"\" + p2;\n",
    "}\n",
    "console.log(functionName(\"Hello\", \"World\"));"
   ],
   "outputs": [
    {
     "output_type": "display_data",
     "data": {
      "text/plain": [
       "<IPython.core.display.Javascript object>"
      ],
      "application/javascript": "\nfunction functionName(p1, p2) {\n    return p1 + \"\" + p2;\n}\nconsole.log(functionName(\"Hello\", \"World\"));\n"
     },
     "metadata": {}
    }
   ],
   "metadata": {}
  },
  {
   "cell_type": "markdown",
   "source": [
    "# Number of Function Arguments\n",
    "\n",
    "In **Python**, the number of arguments passed to the function call has to match the number of parameters defined in the function definition. If this is not the case, an exception will occur."
   ],
   "metadata": {}
  },
  {
   "cell_type": "code",
   "execution_count": 42,
   "source": [
    "def fun(p1, p2):\n",
    "    return p1 + p2\n",
    "\n",
    "# throw error\n",
    "# fun(1)\n",
    "# fun(1, 2, 3)"
   ],
   "outputs": [],
   "metadata": {}
  },
  {
   "cell_type": "markdown",
   "source": [
    "# Object-Oriented Programming in Python and JavaScript\n",
    "\n",
    "Both Python and JavaScript support Object-Oriented Programming, so let's see how you can create and use the main elements of this programming paradigm."
   ],
   "metadata": {}
  },
  {
   "cell_type": "markdown",
   "source": [
    "## Classes\n",
    "\n",
    "The first line of a class definition is very similar in Python and JavaScript. We write the keyword `class` followed by the name of the class.\n",
    "\n",
    "The only difference is that:\n",
    "\n",
    "- In **Python**, after the name of the class, we write a colon (`:`)\n",
    "- In **JavaScript**, we surround the content of the class with curly braces (`{}`)"
   ],
   "metadata": {}
  },
  {
   "cell_type": "code",
   "execution_count": 51,
   "source": [
    "import math\n",
    "\n",
    "class Circle:\n",
    "    def __init__(self, radius):\n",
    "        self.radius = radius\n",
    "    def area(self):\n",
    "        return math.pi * self.radius ** 2\n",
    "\n",
    "print(Circle(10).area())"
   ],
   "outputs": [
    {
     "output_type": "stream",
     "name": "stdout",
     "text": [
      "314.1592653589793\n"
     ]
    }
   ],
   "metadata": {}
  },
  {
   "cell_type": "code",
   "execution_count": 52,
   "source": [
    "%%javascript\n",
    "\n",
    "class Circle {\n",
    "    constructor(radius) {\n",
    "        this.radius = radius;\n",
    "    }\n",
    "    area() {\n",
    "        return Math.PI * this.radius * this.radius;\n",
    "    }\n",
    "}\n",
    "\n",
    "console.log(new Circle(10).area());"
   ],
   "outputs": [
    {
     "output_type": "display_data",
     "data": {
      "text/plain": [
       "<IPython.core.display.Javascript object>"
      ],
      "application/javascript": "\nclass Circle {\n    constructor(radius) {\n        this.radius = radius;\n    }\n    area() {\n        return Math.PI * this.radius * this.radius;\n    }\n}\n\nconsole.log(new Circle(10).area());\n"
     },
     "metadata": {}
    }
   ],
   "metadata": {}
  },
  {
   "cell_type": "markdown",
   "source": [
    "# To Summarize\n",
    "\n",
    "Python and JavaScript are very powerful languages with different real-world applications.\n",
    "\n",
    "Python can be used for web development and for a wide range of applications, including scientific purposes. JavaScript is mainly used for web development (front-end and back-end) and for mobile app development.\n",
    "\n",
    "They have important differences, but they both have the same basic elements that we need to write powerful programs."
   ],
   "metadata": {}
  }
 ],
 "metadata": {
  "orig_nbformat": 4,
  "language_info": {
   "name": "python",
   "version": "3.9.6",
   "mimetype": "text/x-python",
   "codemirror_mode": {
    "name": "ipython",
    "version": 3
   },
   "pygments_lexer": "ipython3",
   "nbconvert_exporter": "python",
   "file_extension": ".py"
  },
  "kernelspec": {
   "name": "python3",
   "display_name": "Python 3.6.14 64-bit"
  },
  "interpreter": {
   "hash": "9055fc75df084c3bfd3493fbd7862ad4f860cbb41713ce8534f7703931cd9cc7"
  }
 },
 "nbformat": 4,
 "nbformat_minor": 2
}