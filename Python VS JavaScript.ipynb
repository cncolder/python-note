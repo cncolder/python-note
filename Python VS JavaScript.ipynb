{
 "cells": [
  {
   "cell_type": "markdown",
   "source": [
    "# Code Blocks in Python and JavaScript\n",
    "\n",
    "Each programming language has its own style to define code blocks. Let's see their differences in Python and JavaScript:\n"
   ],
   "metadata": {}
  },
  {
   "cell_type": "markdown",
   "source": [
    "## How Python defines code blocks\n",
    "\n",
    "Python relies on indentation to define code blocks. When a series of continuous lines of code are indented at the same level, they are considered part of the same code block.\n",
    "\n",
    "We use this to define conditionals, functions, loops, and basically every compound statement in Python.\n",
    "\n",
    "These are some examples:\n"
   ],
   "metadata": {}
  },
  {
   "cell_type": "code",
   "execution_count": 8,
   "source": [
    "x = 3\n",
    "if x < 5:\n",
    "    print(\"x is less than 5\")\n"
   ],
   "outputs": [
    {
     "output_type": "stream",
     "name": "stdout",
     "text": [
      "x is less than 5\n"
     ]
    }
   ],
   "metadata": {}
  },
  {
   "cell_type": "code",
   "execution_count": 9,
   "source": [
    "def foo(x):\n",
    "    print(x)\n"
   ],
   "outputs": [],
   "metadata": {}
  },
  {
   "cell_type": "code",
   "execution_count": 10,
   "source": [
    "for i in range(1, 3):\n",
    "    print(i)\n"
   ],
   "outputs": [
    {
     "output_type": "stream",
     "name": "stdout",
     "text": [
      "1\n",
      "2\n"
     ]
    }
   ],
   "metadata": {}
  },
  {
   "cell_type": "markdown",
   "source": [
    "## How JavaScript defines code blocks\n",
    "\n",
    "In contrast, in JavaScript we use curly braces ({}) to group statements that belong to the same code block.\n",
    "\n",
    "These are some examples:\n"
   ],
   "metadata": {}
  },
  {
   "cell_type": "code",
   "execution_count": 17,
   "source": [
    "%% javascript\n",
    "\n",
    "if (x < 5) {\n",
    "    console.log(x);\n",
    "}\n"
   ],
   "outputs": [
    {
     "output_type": "display_data",
     "data": {
      "text/plain": [
       "<IPython.core.display.Javascript object>"
      ],
      "application/javascript": "\nif (x < 5) {\n    console.log(x);\n}\n"
     },
     "metadata": {}
    }
   ],
   "metadata": {}
  },
  {
   "cell_type": "markdown",
   "source": [
    "# Variable Definitions in Python and JavaScript\n",
    "\n",
    "The assignment statement is one of the most fundamental statements in any programming language. Let's see how we can define a variable in Python and JavaScript.\n"
   ],
   "metadata": {}
  },
  {
   "cell_type": "markdown",
   "source": [
    "## How to define a variable in Python\n",
    "\n",
    "To define a variable in Python, we write the name of the variable followed by an equal sign (`=`) and the value that will be assigned to the variable.\n",
    "\n",
    "Like this:\n"
   ],
   "metadata": {}
  },
  {
   "cell_type": "code",
   "execution_count": 18,
   "source": [
    "x = 5\n"
   ],
   "outputs": [],
   "metadata": {}
  },
  {
   "cell_type": "markdown",
   "source": [
    "## How to define a variable in JavaScript\n",
    "\n",
    "The syntax is very similar in JavaScript, but we just need to add the keyword `var` before the name of the variable and end the line with a semicolon (`;`).\n",
    "\n",
    "Like this:\n"
   ],
   "metadata": {}
  },
  {
   "cell_type": "code",
   "execution_count": 19,
   "source": [
    "%% javascript\n",
    "\n",
    "var x = 5;\n"
   ],
   "outputs": [
    {
     "output_type": "display_data",
     "data": {
      "text/plain": [
       "<IPython.core.display.Javascript object>"
      ],
      "application/javascript": "\nvar x = 5;\n"
     },
     "metadata": {}
    }
   ],
   "metadata": {}
  },
  {
   "cell_type": "markdown",
   "source": [
    "# Variable Naming Conventions in Python and JavaScript\n",
    "\n",
    "Python and JavaScript follow two different variable naming conventions.\n"
   ],
   "metadata": {}
  },
  {
   "cell_type": "markdown",
   "source": [
    "## How to name variables in Python\n",
    "\n",
    "In Python, we should use the snake_case naming style.\n",
    "\n",
    "According to the Python Style Guide:\n",
    "\n",
    "> Variable names follow the same convention as function names.\n",
    ">\n",
    "> Function names should be lowercase, with words separated by underscores as necessary to improve readability.\n",
    "\n",
    "Therefore, a typical variable name in Python would look like this:\n"
   ],
   "metadata": {}
  },
  {
   "cell_type": "code",
   "execution_count": 21,
   "source": [
    "first_name = \"John\"\n"
   ],
   "outputs": [],
   "metadata": {}
  },
  {
   "cell_type": "markdown",
   "source": [
    "## How to name variables in JavaScript\n",
    "\n",
    "In contrast, we should use the lowerCamelCase naming style in JavaScript. The name starts with a lowercase letter and then every new word starts with an uppercase letter.\n",
    "\n",
    "According to the JavaScript guidelines article by the MDN Web Docs:\n",
    "\n",
    "> For variable names use lowerCamelCasing, and use concise, human-readable, semantic names where appropriate.\n",
    "\n",
    "Therefore, a typical variable name in JavaScript should look like this:\n"
   ],
   "metadata": {}
  },
  {
   "cell_type": "code",
   "execution_count": 22,
   "source": [
    "%% javascript\n",
    "\n",
    "var firstName = \"John\";\n"
   ],
   "outputs": [
    {
     "output_type": "display_data",
     "data": {
      "text/plain": [
       "<IPython.core.display.Javascript object>"
      ],
      "application/javascript": "\nvar firstName = \"John\";\n"
     },
     "metadata": {}
    }
   ],
   "metadata": {}
  },
  {
   "cell_type": "markdown",
   "source": [
    "# Constants in Python and JavaScript\n",
    "\n",
    "Great. Now you know more about variables, so let's talk a little bit about constants. Constants are values that cannot be changed during the execution of the program.\n"
   ],
   "metadata": {}
  },
  {
   "cell_type": "markdown",
   "source": [
    "## How to define constants in Python\n",
    "\n",
    "In Python, we rely on naming conventions to define constants because there are no strict rules in the language to prevent changes to their values.\n",
    "\n",
    "According to the Python Style Guide:\n",
    "\n",
    "> Constants are usually defined on a module level and written in all capital letters with underscores separating words.\n",
    "\n",
    "This is the naming style that we should use to define a constant in Python:\n"
   ],
   "metadata": {}
  },
  {
   "cell_type": "code",
   "execution_count": 23,
   "source": [
    "TAX_RATE_PERCENTAGE = 32\n"
   ],
   "outputs": [],
   "metadata": {}
  },
  {
   "cell_type": "markdown",
   "source": [
    "## How to define constants in JavaScript\n",
    "\n",
    "In contrast, in JavaScript we can define constants that cannot be changed in the program, and the variable identifier cannot be reassigned.\n",
    "\n",
    "But this does not mean that the value itself cannot be changed.\n",
    "\n",
    "According to the article const in MDN Web Docs:\n",
    "\n",
    "> The const declaration creates a read-only reference to a value. It does not mean the value it holds is immutable—just that the variable identifier cannot be reassigned. For instance, in the case where the content is an object, this means the object's contents (e.g., its properties) can be altered.\n",
    "\n",
    "To define a constant in JavaScript, we add the keyword const before the name of the variable:\n"
   ],
   "metadata": {}
  },
  {
   "cell_type": "code",
   "execution_count": null,
   "source": [
    "%%javascript\n",
    "\n",
    "const TAX_RATE_PERCENTAGE = 32;\n"
   ],
   "outputs": [],
   "metadata": {}
  }
 ],
 "metadata": {
  "orig_nbformat": 4,
  "language_info": {
   "name": "python",
   "version": "3.9.6",
   "mimetype": "text/x-python",
   "codemirror_mode": {
    "name": "ipython",
    "version": 3
   },
   "pygments_lexer": "ipython3",
   "nbconvert_exporter": "python",
   "file_extension": ".py"
  },
  "kernelspec": {
   "name": "python3",
   "display_name": "Python 3.9.6 64-bit"
  },
  "interpreter": {
   "hash": "aee8b7b246df8f9039afb4144a1f6fd8d2ca17a180786b69acc140d282b71a49"
  }
 },
 "nbformat": 4,
 "nbformat_minor": 2
}